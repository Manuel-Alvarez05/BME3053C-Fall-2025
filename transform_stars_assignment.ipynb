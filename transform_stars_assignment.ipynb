{
 "cells": [
  {
   "cell_type": "code",
   "execution_count": null,
   "id": "3d07c797",
   "metadata": {},
   "outputs": [],
   "source": [
    "import numpy as np\n",
    "import matplotlib.pyplot as plt\n",
    "\n",
    "# Enable inline plotting\n",
    "%matplotlib inline"
   ]
  },
  {
   "cell_type": "code",
   "execution_count": null,
   "id": "ece08753",
   "metadata": {},
   "outputs": [],
   "source": [
    "def generate_star(center=(0, 0), num_points=5, outer_radius=1, inner_radius=0.5, homogeneous=False):\n",
    "    '''\n",
    "    '''\n",
    "    angles = np.linspace(np.pi/2, 5*np.pi/2, num_points*2, endpoint=False)\n",
    "    radii = np.array([outer_radius, inner_radius] * num_points)\n",
    "    x = radii * np.cos(angles) + center[0]\n",
    "    y = radii * np.sin(angles) + center[1]\n",
    "    return np.column_stack((x, y)) if not homogeneous else np.column_stack((x, y, np.ones(num_points*2)))\n",
    "\n",
    "def plot_star(ax, star, title, global_view):\n",
    "    ax.plot(star[:, 0], star[:, 1], 'b-')\n",
    "    ax.plot([star[-1, 0], star[0, 0]], [star[-1, 1], star[0, 1]], 'b-')  # Connect last to first\n",
    "    ax.set_title(title)\n",
    "    ax.axis('equal')\n",
    "    if global_view:\n",
    "        ax.set_xlim(-10, 10)\n",
    "        ax.set_ylim(-10, 10)\n",
    "        ax.axhline(0, color='black')\n",
    "        ax.axvline(0, color='black')\n",
    "    ax.grid(True)\n",
    "    # Arrow from star center to first vertex\n",
    "    star_center = np.mean(star, axis=0)\n",
    "    vector_to_point = star[0] - star_center\n",
    "    direction = vector_to_point / np.linalg.norm(vector_to_point)\n",
    "    arrow_length = np.linalg.norm(vector_to_point) / 2\n",
    "    arrow_end = star_center + arrow_length * direction\n",
    "    headwidth = 6 if global_view else 8\n",
    "    width = 1 if global_view else 2\n",
    "    ax.annotate('', xy=arrow_end, xytext=star_center,\n",
    "                arrowprops=dict(facecolor='green', shrink=0.05, width=width, headwidth=headwidth))\n",
    "\n",
    "def plot_stars(stars, global_view=False):\n",
    "    if len(stars) == 1 or not isinstance(stars, list):\n",
    "        print(\"There must be a list of multiple stars to plot\")\n",
    "        return\n",
    "    num_stars = len(stars)\n",
    "    fig, axs = plt.subplots(1, num_stars, figsize=(10, 5))\n",
    "    for i, star in enumerate(stars):\n",
    "        plot_star(axs[i], star[:, :2], f'Star {i+1}', global_view)\n",
    "\n",
    "# 2D homogeneous transform helpers\n",
    "def rotate(angle_degrees):\n",
    "    a = np.radians(angle_degrees)\n",
    "    c, s = np.cos(a), np.sin(a)\n",
    "    return np.array([[c, -s, 0],\n",
    "                     [s,  c, 0],\n",
    "                     [0,  0, 1]])\n",
    "\n",
    "def scale(sx, sy):\n",
    "    return np.array([[sx, 0,  0],\n",
    "                     [0,  sy, 0],\n",
    "                     [0,  0,  1]])\n",
    "\n",
    "def translate(tx, ty):\n",
    "    return np.array([[1, 0, tx],\n",
    "                     [0, 1, ty],\n",
    "                     [0, 0, 1]])\n",
    "\n",
    "def to_h(points):\n",
    "    # to homogeneous\n",
    "    return np.hstack([points, np.ones((points.shape[0], 1))])\n",
    "\n",
    "def from_h(points_h):\n",
    "    # from homogeneous\n",
    "    return points_h[:, :2] / points_h[:, 2, np.newaxis]"
   ]
  },
  {
   "cell_type": "code",
   "execution_count": null,
   "id": "5af2c933",
   "metadata": {},
   "outputs": [],
   "source": [
    "# Image 1: Star2 is a translation of Star1\n",
    "star1 = generate_star(center=(0, 0), outer_radius=1, inner_radius=0.5)\n",
    "T = translate(3, 2)                     # single combined matrix (only a translation here)\n",
    "star2 = from_h(to_h(star1) @ T.T)\n",
    "plot_stars([star1, star2])"
   ]
  },
  {
   "cell_type": "code",
   "execution_count": null,
   "id": "118e9591",
   "metadata": {},
   "outputs": [],
   "source": [
    "# Image 2: Star2 is a pure rotation of Star1 (about origin/its center, since center is (0,0))\n",
    "star1 = generate_star(center=(0, 0), outer_radius=1, inner_radius=0.5)\n",
    "R = rotate(90)                           # +90° => arrow points left\n",
    "star2 = from_h(to_h(star1) @ R.T)\n",
    "plot_stars([star1, star2])"
   ]
  },
  {
   "cell_type": "code",
   "execution_count": null,
   "id": "2d02958d",
   "metadata": {},
   "outputs": [],
   "source": [
    "# Image 3: Star1 centered away from origin; Star2 = rotate a bit and translate\n",
    "star1 = generate_star(center=(2, 2), outer_radius=1, inner_radius=0.5)\n",
    "# Build a single combined matrix for: small rotation about the star's center and a slight translation\n",
    "cx, cy = 2, 2\n",
    "M = translate(cx, cy) @ rotate(30) @ translate(-cx, -cy) @ translate(0.2, 0.1)\n",
    "star2 = from_h(to_h(star1) @ M.T)\n",
    "plot_stars([star1, star2])"
   ]
  },
  {
   "cell_type": "code",
   "execution_count": null,
   "id": "aafdc088",
   "metadata": {},
   "outputs": [],
   "source": [
    "# Image 4: Star2 is rotated 180° and moved to the left\n",
    "star1 = generate_star(center=(2, 0), outer_radius=1, inner_radius=0.5)\n",
    "# rotate about origin and translate to ~(-1, 0.6)\n",
    "M = rotate(180) @ translate(-3, 0.6)     # single matrix product\n",
    "star2 = from_h(to_h(star1) @ M.T)\n",
    "plot_stars([star1, star2])"
   ]
  },
  {
   "cell_type": "code",
   "execution_count": null,
   "id": "d82c5f56",
   "metadata": {},
   "outputs": [],
   "source": [
    "# Image 5: Global view. Star1 small near (0,2). Star2 mirrored vertically and moved below.\n",
    "star1 = generate_star(center=(0, 2), outer_radius=1.1, inner_radius=0.55)\n",
    "# reflect in x (scale y by -1) about origin, then translate down\n",
    "M = scale(1, -1) @ translate(0, -5)\n",
    "star2 = from_h(to_h(star1) @ M.T)\n",
    "plot_stars([star1, star2], global_view=True)"
   ]
  },
  {
   "cell_type": "code",
   "execution_count": null,
   "id": "43c1b33b",
   "metadata": {},
   "outputs": [],
   "source": [
    "# Image 6: Global view. Make Star2 larger, rotated, and shifted down-right.\n",
    "star1 = generate_star(center=(4, 2), outer_radius=1.0, inner_radius=0.5)\n",
    "# scale 2x about the star's center, rotate a little, then translate down-left\n",
    "cx, cy = 4, 2\n",
    "M = translate(cx, cy) @ scale(2, 2) @ rotate(20) @ translate(-cx, -cy) @ translate(-3.5, -6)\n",
    "star2 = from_h(to_h(star1) @ M.T)\n",
    "plot_stars([star1, star2], global_view=True)"
   ]
  }
 ],
 "metadata": {},
 "nbformat": 4,
 "nbformat_minor": 5
}
